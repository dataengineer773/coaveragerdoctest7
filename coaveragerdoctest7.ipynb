{
 "cells": [
  {
   "cell_type": "code",
   "execution_count": 1,
   "id": "0edb0362-941a-4bcf-a2a1-fea1d7008ca6",
   "metadata": {},
   "outputs": [],
   "source": [
    "def compute():\n",
    "    res = yield from averager2(True)\n",
    "    print('computed:', res)\n",
    "    return res"
   ]
  },
  {
   "cell_type": "code",
   "execution_count": 2,
   "id": "45f9fb24-7058-4c6c-b120-342edbcdff59",
   "metadata": {},
   "outputs": [],
   "source": [
    "comp = compute()"
   ]
  },
  {
   "cell_type": "code",
   "execution_count": 3,
   "id": "982180d2-4f1c-4792-ab3b-14ee6c8cf981",
   "metadata": {},
   "outputs": [],
   "source": [
    "from collections.abc import Generator"
   ]
  },
  {
   "cell_type": "code",
   "execution_count": 4,
   "id": "78954627-6684-4c48-91e9-0d91687c3a1b",
   "metadata": {},
   "outputs": [],
   "source": [
    "from typing import Generator, Any"
   ]
  },
  {
   "cell_type": "code",
   "execution_count": 5,
   "id": "1f034db3-499c-4d22-9cfd-7967001c3fef",
   "metadata": {},
   "outputs": [],
   "source": [
    "def averager2(verbose: bool = False) -> Generator[None, Any, float]:\n",
    "    total = 0\n",
    "    count = 0\n",
    "    result = None\n",
    "    while True:\n",
    "        term = yield result\n",
    "        if term is None:\n",
    "            break\n",
    "        total += term\n",
    "        count += 1\n",
    "        result = total / count\n",
    "        if verbose:\n",
    "            print(f\"Received: {term}, Current average: {result}\")"
   ]
  },
  {
   "cell_type": "code",
   "execution_count": 6,
   "id": "d91abaa3-67b9-49af-b18d-61f89bba12cc",
   "metadata": {},
   "outputs": [],
   "source": [
    "coro_avg = averager2()"
   ]
  },
  {
   "cell_type": "code",
   "execution_count": 7,
   "id": "7f691c70-e8d6-4b82-bc47-3342f66a0934",
   "metadata": {},
   "outputs": [
    {
     "name": "stdout",
     "output_type": "stream",
     "text": [
      "Received: 10, Current average: 10.0\n",
      "Received: 20, Current average: 15.0\n",
      "15.0\n"
     ]
    }
   ],
   "source": [
    "STOP = object()\n",
    "\n",
    "def averager2(verbose: bool = False):\n",
    "    total = 0.0\n",
    "    count = 0\n",
    "    result = None\n",
    "    while True:\n",
    "        term = yield result\n",
    "        if term is STOP:\n",
    "            break\n",
    "        total += term\n",
    "        count += 1\n",
    "        result = total / count\n",
    "        if verbose:\n",
    "            print(f\"Received: {term}, Current average: {result}\")\n",
    "    return result  # This is returned when coroutine ends\n",
    "\n",
    "# Using the coroutine\n",
    "coro_avg = averager2(verbose=True)\n",
    "next(coro_avg)  # Prime the coroutine\n",
    "\n",
    "coro_avg.send(10)\n",
    "coro_avg.send(20)\n",
    "\n",
    "try:\n",
    "    coro_avg.send(STOP)\n",
    "except StopIteration as exc:\n",
    "    result = exc.value  # ✅ This is where result gets defined\n",
    "\n",
    "print(result)  # ✅ Now this works\n"
   ]
  },
  {
   "cell_type": "code",
   "execution_count": null,
   "id": "7e595f26-d006-474e-b36b-2c8123f2a795",
   "metadata": {},
   "outputs": [],
   "source": []
  }
 ],
 "metadata": {
  "kernelspec": {
   "display_name": "Python 3 (ipykernel)",
   "language": "python",
   "name": "python3"
  },
  "language_info": {
   "codemirror_mode": {
    "name": "ipython",
    "version": 3
   },
   "file_extension": ".py",
   "mimetype": "text/x-python",
   "name": "python",
   "nbconvert_exporter": "python",
   "pygments_lexer": "ipython3",
   "version": "3.12.3"
  }
 },
 "nbformat": 4,
 "nbformat_minor": 5
}
